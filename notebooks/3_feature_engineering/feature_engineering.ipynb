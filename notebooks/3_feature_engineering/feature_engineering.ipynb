{
 "cells": [
  {
   "attachments": {},
   "cell_type": "markdown",
   "id": "20203c0f",
   "metadata": {},
   "source": [
    "# I. Project Team Members"
   ]
  },
  {
   "attachments": {},
   "cell_type": "markdown",
   "id": "0aa3d7f4",
   "metadata": {},
   "source": [
    "| Prepared by | Email | Prepared for |\n",
    "| :-: | :-: | :-: |\n",
    "| **_Your Name_** | _Your Email_ | **_Project Name_** |"
   ]
  },
  {
   "attachments": {},
   "cell_type": "markdown",
   "id": "b05cd469",
   "metadata": {},
   "source": [
    "# II. Notebook Target Definition"
   ]
  },
  {
   "attachments": {},
   "cell_type": "markdown",
   "id": "47bae1d2",
   "metadata": {},
   "source": [
    "_Insert Text Here_"
   ]
  },
  {
   "attachments": {},
   "cell_type": "markdown",
   "id": "3213f42d",
   "metadata": {},
   "source": [
    "# III. Notebook Setup"
   ]
  },
  {
   "attachments": {},
   "cell_type": "markdown",
   "id": "bb5c3810",
   "metadata": {},
   "source": [
    "## III.A. Import Libraries"
   ]
  },
  {
   "cell_type": "code",
   "execution_count": null,
   "id": "ac84c896",
   "metadata": {},
   "outputs": [],
   "source": [
    "from optbinning import BinningProcess\n",
    "from sklearn.preprocessing import MinMaxScaler, StandardScaler\n",
    "import matplotlib.pyplot as plt\n",
    "import numpy as np\n",
    "import pandas as pd\n",
    "import pickle\n",
    "\n",
    "pd.set_option('display.max_columns', None)\n",
    "pd.set_option('display.max_rows', None)"
   ]
  },
  {
   "attachments": {},
   "cell_type": "markdown",
   "id": "7291e85b",
   "metadata": {},
   "source": [
    "## III.B. Import Data"
   ]
  },
  {
   "cell_type": "code",
   "execution_count": null,
   "id": "2f425995",
   "metadata": {},
   "outputs": [],
   "source": [
    "X_train = pd.read_pickle('../../data/processed/X_train.pkl')\n",
    "X_test = pd.read_pickle('../../data/processed/X_test.pkl')\n",
    "y_train = pd.read_pickle('../../data/processed/y_train.pkl')\n",
    "y_test = pd.read_pickle('../../data/processed/y_test.pkl')"
   ]
  },
  {
   "cell_type": "code",
   "execution_count": null,
   "id": "d849198a",
   "metadata": {},
   "outputs": [],
   "source": [
    "X_train.head()"
   ]
  },
  {
   "cell_type": "code",
   "execution_count": null,
   "id": "3d3fa463",
   "metadata": {},
   "outputs": [],
   "source": [
    "X_test.head()"
   ]
  },
  {
   "cell_type": "code",
   "execution_count": null,
   "id": "1433f20c",
   "metadata": {},
   "outputs": [],
   "source": [
    "y_train.head()"
   ]
  },
  {
   "cell_type": "code",
   "execution_count": null,
   "id": "d253314f",
   "metadata": {},
   "outputs": [],
   "source": [
    "y_test.head()"
   ]
  },
  {
   "attachments": {},
   "cell_type": "markdown",
   "id": "f59e32c9",
   "metadata": {},
   "source": [
    "# IV. Feature Engineering"
   ]
  },
  {
   "attachments": {},
   "cell_type": "markdown",
   "id": "db0a5756",
   "metadata": {},
   "source": [
    "## IV.A. Data Shape Inspection"
   ]
  },
  {
   "cell_type": "code",
   "execution_count": null,
   "id": "aad7798b",
   "metadata": {},
   "outputs": [],
   "source": [
    "X_train.shape, X_test.shape"
   ]
  },
  {
   "cell_type": "code",
   "execution_count": null,
   "id": "6bd1fe1c",
   "metadata": {},
   "outputs": [],
   "source": [
    "y_train.shape, y_test.shape"
   ]
  },
  {
   "attachments": {},
   "cell_type": "markdown",
   "id": "3389b1bf",
   "metadata": {},
   "source": [
    "## IV.B. Data Information Inspection"
   ]
  },
  {
   "cell_type": "code",
   "execution_count": null,
   "id": "c6d7319a",
   "metadata": {},
   "outputs": [],
   "source": [
    "X_train.info()"
   ]
  },
  {
   "cell_type": "code",
   "execution_count": null,
   "id": "fe621948",
   "metadata": {},
   "outputs": [],
   "source": [
    "X_test.info()"
   ]
  },
  {
   "cell_type": "code",
   "execution_count": null,
   "id": "d1aef8c6",
   "metadata": {},
   "outputs": [],
   "source": [
    "y_train.info()"
   ]
  },
  {
   "cell_type": "code",
   "execution_count": null,
   "id": "2121d07d",
   "metadata": {},
   "outputs": [],
   "source": [
    "y_test.info()"
   ]
  },
  {
   "attachments": {},
   "cell_type": "markdown",
   "id": "d9326f5a",
   "metadata": {},
   "source": [
    "## IV.C. Unused Feature Removal"
   ]
  },
  {
   "cell_type": "code",
   "execution_count": null,
   "id": "71185866",
   "metadata": {},
   "outputs": [],
   "source": [
    "def unused_feat_removal(df, feature_to_remove):\n",
    "    df.drop(columns = feature_to_remove, inplace = True)\n",
    "    return df"
   ]
  },
  {
   "cell_type": "code",
   "execution_count": null,
   "id": "58b0f751",
   "metadata": {},
   "outputs": [],
   "source": [
    "feature_to_remove = [\"column_0\", \"column_1\"]"
   ]
  },
  {
   "cell_type": "code",
   "execution_count": null,
   "id": "1511ebb1",
   "metadata": {},
   "outputs": [],
   "source": [
    "unused_feat_removal(X_train, feature_to_remove)\n",
    "unused_feat_removal(X_test, feature_to_remove)\n",
    "X_train.shape, X_test.shape"
   ]
  },
  {
   "cell_type": "code",
   "execution_count": null,
   "id": "9eb26492",
   "metadata": {},
   "outputs": [],
   "source": [
    "X_train.head()"
   ]
  },
  {
   "cell_type": "code",
   "execution_count": null,
   "id": "6c33434b",
   "metadata": {},
   "outputs": [],
   "source": [
    "X_test.head()"
   ]
  },
  {
   "attachments": {},
   "cell_type": "markdown",
   "id": "8f9fb485",
   "metadata": {},
   "source": [
    "## IV.D. Feature Scaling"
   ]
  },
  {
   "cell_type": "code",
   "execution_count": null,
   "id": "8085f00d",
   "metadata": {},
   "outputs": [],
   "source": [
    "# Min Max Scaler\n",
    "def minmax_scaler(df_train, df_test, feature_to_scale):\n",
    "    scaler = MinMaxScaler()\n",
    "    scaler.fit(df_train[feature_to_scale])\n",
    "    df_train[feature_to_scale] = scaler.transform(df_train[feature_to_scale])\n",
    "    df_test[feature_to_scale] = scaler.transform(df_test[feature_to_scale])\n",
    "    return df_train, df_test\n",
    "\n",
    "# Standard Scaler\n",
    "def standard_scaler(df_train, df_test, feature_to_scale):\n",
    "    scaler = StandardScaler()\n",
    "    scaler.fit(df_train[feature_to_scale])\n",
    "    df_train[feature_to_scale] = scaler.transform(df_train[feature_to_scale])\n",
    "    df_test[feature_to_scale] = scaler.transform(df_test[feature_to_scale])\n",
    "    return df_train, df_test"
   ]
  },
  {
   "cell_type": "code",
   "execution_count": null,
   "id": "daec3373",
   "metadata": {},
   "outputs": [],
   "source": [
    "feature_to_scale = [\"column_0\", \"column_1\"]"
   ]
  },
  {
   "cell_type": "code",
   "execution_count": null,
   "id": "2c875fc8",
   "metadata": {},
   "outputs": [],
   "source": [
    "# Min Max Scaler\n",
    "X_train, X_test = minmax_scaler(X_train, X_test, feature_to_scale)\n",
    "\n",
    "# Standard Scaler\n",
    "X_train, X_test = standard_scaler(X_train, X_test, feature_to_scale)\n",
    "\n",
    "X_train.shape, X_test.shape"
   ]
  },
  {
   "cell_type": "code",
   "execution_count": null,
   "id": "1279b6e8",
   "metadata": {},
   "outputs": [],
   "source": [
    "X_train.head()"
   ]
  },
  {
   "cell_type": "code",
   "execution_count": null,
   "id": "4ddd72cd",
   "metadata": {},
   "outputs": [],
   "source": [
    "X_test.head()"
   ]
  },
  {
   "attachments": {},
   "cell_type": "markdown",
   "id": "c2bf5697",
   "metadata": {},
   "source": [
    "## IV.E. Specific Feature Engineering"
   ]
  },
  {
   "cell_type": "code",
   "execution_count": null,
   "id": "0aa85812",
   "metadata": {},
   "outputs": [],
   "source": []
  },
  {
   "attachments": {},
   "cell_type": "markdown",
   "id": "2feae1c3",
   "metadata": {},
   "source": [
    "## IV.F. Final Feature Inspection"
   ]
  },
  {
   "cell_type": "code",
   "execution_count": null,
   "id": "4205d53d",
   "metadata": {},
   "outputs": [],
   "source": [
    "X_train.shape, X_test.shape"
   ]
  },
  {
   "cell_type": "code",
   "execution_count": null,
   "id": "033d2ccb",
   "metadata": {},
   "outputs": [],
   "source": [
    "X_train.head()"
   ]
  },
  {
   "cell_type": "code",
   "execution_count": null,
   "id": "3129da35",
   "metadata": {},
   "outputs": [],
   "source": [
    "X_test.head()"
   ]
  },
  {
   "cell_type": "code",
   "execution_count": null,
   "id": "6aebcd16",
   "metadata": {},
   "outputs": [],
   "source": [
    "X_train.info()"
   ]
  },
  {
   "cell_type": "code",
   "execution_count": null,
   "id": "f8a75b34",
   "metadata": {},
   "outputs": [],
   "source": [
    "X_test.info()"
   ]
  },
  {
   "attachments": {},
   "cell_type": "markdown",
   "id": "9c656993",
   "metadata": {},
   "source": [
    "# V. Feature Selection"
   ]
  },
  {
   "attachments": {},
   "cell_type": "markdown",
   "id": "3152d60d",
   "metadata": {},
   "source": [
    "## V.A. Feature Optimal Binning"
   ]
  },
  {
   "cell_type": "code",
   "execution_count": null,
   "id": "68e4d94d",
   "metadata": {},
   "outputs": [],
   "source": [
    "feature = list(X_train.columns)\n",
    "categorical_feature = [\"column_0\", \"column_1\"]\n",
    "X = X_train[feature]\n",
    "y = y_train[\"target_label\"].values\n",
    "selection_criteria = {\n",
    "    \"iv\": {\n",
    "        \"min\": 0.02,\n",
    "        \"max\": 0.5,\n",
    "        \"strategy\": \"highest\"\n",
    "    }\n",
    "}"
   ]
  },
  {
   "cell_type": "code",
   "execution_count": null,
   "id": "4b09366c",
   "metadata": {},
   "outputs": [],
   "source": [
    "optimal_binning_process = BinningProcess(feature, categorical_variables = categorical_feature, selection_criteria = selection_criteria)\n",
    "optimal_binning_process.fit(X, y)"
   ]
  },
  {
   "cell_type": "code",
   "execution_count": null,
   "id": "9b5cef0c",
   "metadata": {},
   "outputs": [],
   "source": [
    "optimal_binning_process.information(print_level = 2)"
   ]
  },
  {
   "cell_type": "code",
   "execution_count": null,
   "id": "2446870e",
   "metadata": {},
   "outputs": [],
   "source": [
    "optimal_binning_process.summary()"
   ]
  },
  {
   "cell_type": "code",
   "execution_count": null,
   "id": "0c6abd20",
   "metadata": {},
   "outputs": [],
   "source": [
    "feature_optimal_binning_summary = optimal_binning_process.summary()\n",
    "feature_optimal_binning_summary.to_csv('../../reports/feature_optimal_binning_summary.csv', index = False)"
   ]
  },
  {
   "attachments": {},
   "cell_type": "markdown",
   "id": "0e81ada4",
   "metadata": {},
   "source": [
    "## V.B. Optimal Binning Details"
   ]
  },
  {
   "attachments": {},
   "cell_type": "markdown",
   "id": "dde23e55",
   "metadata": {},
   "source": [
    "### V.B.1. _Column Name_ Optimal Binning Details"
   ]
  },
  {
   "cell_type": "code",
   "execution_count": null,
   "id": "08f61442",
   "metadata": {},
   "outputs": [],
   "source": [
    "optb = optimal_binning_process.get_binned_variable(\"feature_column_name\")\n",
    "optimal_binning_table_column_name = optb.binning_table.build()\n",
    "optimal_binning_table_column_name.insert(0, \"Variables\", \"feature_column_name\")\n",
    "optb.binning_table.build()"
   ]
  },
  {
   "cell_type": "code",
   "execution_count": null,
   "id": "82ebf0c5",
   "metadata": {},
   "outputs": [],
   "source": [
    "optb.binning_table.plot(metric = \"event_rate\")"
   ]
  },
  {
   "attachments": {},
   "cell_type": "markdown",
   "id": "f14a0e21",
   "metadata": {},
   "source": [
    "## V.C. Optimal Binning Analysis"
   ]
  },
  {
   "cell_type": "code",
   "execution_count": null,
   "id": "e5c7855a",
   "metadata": {},
   "outputs": [],
   "source": [
    "optimal_binning_table_dict = [optimal_binning_table_column_0, optimal_binning_table_column_1]\n",
    "optimal_binning_analysis = pd.concat(optimal_binning_table_dict, axis = 0)\n",
    "optimal_binning_analysis"
   ]
  },
  {
   "cell_type": "code",
   "execution_count": null,
   "id": "9db1512f",
   "metadata": {},
   "outputs": [],
   "source": [
    "optimal_binning_analysis_dict = {\"Non-event\": \"Good\", \"Event\": \"Bad\", \"Event rate\": \"Bad Rate\"}\n",
    "bin_to_remove = [\"Special\", \"Missing\"]\n",
    "optimal_binning_analysis.rename(columns = optimal_binning_analysis_dict, inplace = True)\n",
    "optimal_binning_analysis = optimal_binning_analysis[optimal_binning_analysis.Bin.isin(bin_to_remove) == False]\n",
    "optimal_binning_analysis"
   ]
  },
  {
   "cell_type": "code",
   "execution_count": null,
   "id": "e4a118a3",
   "metadata": {},
   "outputs": [],
   "source": [
    "optimal_binning_analysis.to_csv('../../reports/optimal_binning_analysis.csv', index = False)"
   ]
  },
  {
   "attachments": {},
   "cell_type": "markdown",
   "id": "fd4ee7e9",
   "metadata": {},
   "source": [
    "## V.D. Feature Optimal Binning Weight of Evidence Encoding"
   ]
  },
  {
   "cell_type": "code",
   "execution_count": null,
   "id": "43bb3e09",
   "metadata": {},
   "outputs": [],
   "source": [
    "X_train_woe = optimal_binning_process.transform(X, metric = \"woe\")\n",
    "X_test_woe = optimal_binning_process.transform(X_test[feature], metric = \"woe\")\n",
    "X_train_woe.shape, X_test_woe.shape"
   ]
  },
  {
   "cell_type": "code",
   "execution_count": null,
   "id": "a72eb7f4",
   "metadata": {},
   "outputs": [],
   "source": [
    "X_train_woe.head()"
   ]
  },
  {
   "cell_type": "code",
   "execution_count": null,
   "id": "f216aaab",
   "metadata": {},
   "outputs": [],
   "source": [
    "X_test_woe.head()"
   ]
  },
  {
   "attachments": {},
   "cell_type": "markdown",
   "id": "160311f1",
   "metadata": {},
   "source": [
    "## V.E. Feature Manual Binning"
   ]
  },
  {
   "attachments": {},
   "cell_type": "markdown",
   "id": "1b6415e5",
   "metadata": {},
   "source": [
    "### V.E.1. Feature Weight of Evidence and Information Value Inspection"
   ]
  },
  {
   "cell_type": "code",
   "execution_count": null,
   "id": "9796d2e4",
   "metadata": {},
   "outputs": [],
   "source": [
    "def woe_analysis(X, feature, y):\n",
    "    df = pd.concat([X[feature], y], axis = 1)\n",
    "    df = pd.concat([df.groupby(df.columns.values[0], as_index = False)[df.columns.values[1]].count(),\n",
    "                    df.groupby(df.columns.values[0], as_index = False)[df.columns.values[1]].mean()], axis = 1)\n",
    "    df = df.iloc[:, [0, 1, 3]]\n",
    "    df.columns = [df.columns[0], \"n_observation\", \"proportion_of_category\"]\n",
    "    df[\"proportion_of_observation\"] = df[\"n_observation\"] / df[\"n_observation\"].sum()\n",
    "    df[\"n_good\"] = df[\"proportion_of_category\"] * df[\"n_observation\"]\n",
    "    df[\"n_bad\"] = (1 - df[\"proportion_of_category\"]) * df[\"n_observation\"]\n",
    "    df[\"proportion_of_good\"] = df[\"n_good\"] / df[\"n_good\"].sum()\n",
    "    df[\"proportion_of_bad\"] = df[\"n_bad\"] / df[\"n_bad\"].sum()\n",
    "    df[\"WoE\"] = np.log(df[\"proportion_of_good\"] / df[\"proportion_of_bad\"])\n",
    "    df = df.sort_values([\"WoE\"]).reset_index(drop = True)\n",
    "    df[\"diff_proportion_of_category\"] = df[\"proportion_of_category\"].diff().abs()\n",
    "    df[\"diff_WoE\"] = df[\"WoE\"].diff().abs()\n",
    "    df[\"IV\"] = (df[\"proportion_of_good\"] - df[\"proportion_of_bad\"]) * df[\"WoE\"]\n",
    "    df[\"IV\"] = df[\"IV\"].sum()\n",
    "    return df\n",
    "\n",
    "def plot_by_woe(woe_df, rotation_of_x_axis_labels = 0):\n",
    "    x = np.array(woe_df.iloc[:, 0].astype(str))\n",
    "    y = woe_df[\"WoE\"]\n",
    "    plt.figure(figsize = (18, 6))\n",
    "    plt.plot(x, y, marker = 'o', linestyle = '--', color = 'k')\n",
    "    plt.xlabel(woe_df.columns[0])\n",
    "    plt.ylabel(\"Weight of Evidence\")\n",
    "    plt.title(\"Weight of Evidence by \" + woe_df.columns[0])\n",
    "    plt.xticks(rotation = rotation_of_x_axis_labels)"
   ]
  },
  {
   "attachments": {},
   "cell_type": "markdown",
   "id": "fe3ec9e6",
   "metadata": {},
   "source": [
    "#### V.E.1.A. _Column_0_"
   ]
  },
  {
   "cell_type": "code",
   "execution_count": null,
   "id": "edce1e04",
   "metadata": {},
   "outputs": [],
   "source": [
    "# Categorical Feature\n",
    "column_0_woe = woe_analysis(X_train, \"column_0\", y_train)\n",
    "column_0_woe"
   ]
  },
  {
   "cell_type": "code",
   "execution_count": null,
   "id": "df26c44f",
   "metadata": {},
   "outputs": [],
   "source": [
    "plot_by_woe(column_0_woe)"
   ]
  },
  {
   "attachments": {},
   "cell_type": "markdown",
   "id": "6f72a1bb",
   "metadata": {},
   "source": [
    "#### V.E.1.B. _Column_1_"
   ]
  },
  {
   "cell_type": "code",
   "execution_count": null,
   "id": "623e1f80",
   "metadata": {},
   "outputs": [],
   "source": [
    "# Continuous Feature\n",
    "# Fine Classing or Coarse Classing\n",
    "X_train[\"column_1\"] = pd.cut(X_train[\"column_1\"], 10) # This is an iterative process\n",
    "column_1_woe = woe_analysis(X_train, \"column_1\", y_train)\n",
    "column_1_woe"
   ]
  },
  {
   "cell_type": "code",
   "execution_count": null,
   "id": "4634c4bd",
   "metadata": {},
   "outputs": [],
   "source": [
    "plot_by_woe(column_1_woe)"
   ]
  },
  {
   "attachments": {},
   "cell_type": "markdown",
   "id": "34a2a02e",
   "metadata": {},
   "source": [
    "## V.F. Feature Manual Binning Weight of Evidence Encoding"
   ]
  },
  {
   "cell_type": "code",
   "execution_count": null,
   "id": "ca90cd15",
   "metadata": {},
   "outputs": [],
   "source": [
    "def manual_binning_woe_encoding(X, feature, df_woe_analysis):\n",
    "    X_encoded = X.copy()\n",
    "    woe_values = df_woe_analysis.set_index(feature)[\"WoE\"]\n",
    "    X_encoded[feature] = X_encoded[feature].map(woe_values)\n",
    "    return X_encoded"
   ]
  },
  {
   "cell_type": "code",
   "execution_count": null,
   "id": "a034fe7b",
   "metadata": {},
   "outputs": [],
   "source": [
    "X_train_woe = manual_binning_woe_encoding(X, \"column_name\", column_name_woe)\n",
    "X_test_woe = manual_binning_woe_encoding(X, \"column_name\", column_name_woe)\n",
    "X_train_woe.shape, X_test_woe.shape"
   ]
  },
  {
   "cell_type": "code",
   "execution_count": null,
   "id": "65af03e5",
   "metadata": {},
   "outputs": [],
   "source": [
    "X_train_woe.head()"
   ]
  },
  {
   "cell_type": "code",
   "execution_count": null,
   "id": "8da24139",
   "metadata": {},
   "outputs": [],
   "source": [
    "X_test_woe.head()"
   ]
  },
  {
   "attachments": {},
   "cell_type": "markdown",
   "id": "472a5339",
   "metadata": {},
   "source": [
    "## V.G. Feature Manual Binning One-Hot Encoding"
   ]
  },
  {
   "attachments": {},
   "cell_type": "markdown",
   "id": "a552dcf8",
   "metadata": {},
   "source": [
    "### V.G.1. Categorical Feature Dummy Encoding"
   ]
  },
  {
   "cell_type": "code",
   "execution_count": null,
   "id": "16116fae",
   "metadata": {},
   "outputs": [],
   "source": [
    "def dummy_encoding(df, columns_list):\n",
    "    df_dummies = pd.get_dummies(df[columns_list], prefix = columns_list, prefix_sep = \":\")\n",
    "    df_dummies = df_dummies.astype(int)\n",
    "    df = pd.concat([df, df_dummies], axis = 1)\n",
    "    return df"
   ]
  },
  {
   "cell_type": "code",
   "execution_count": null,
   "id": "bffc575e",
   "metadata": {},
   "outputs": [],
   "source": [
    "X_train = dummy_encoding(X_train, [\"column_0\", \"column_1\"])\n",
    "X_test = dummy_encoding(X_test, [\"column_0\", \"column_1\"])\n",
    "X_train.shape, X_test.shape"
   ]
  },
  {
   "cell_type": "code",
   "execution_count": null,
   "id": "3f8a98fe",
   "metadata": {},
   "outputs": [],
   "source": [
    "X_train.head()"
   ]
  },
  {
   "cell_type": "code",
   "execution_count": null,
   "id": "0add85d7",
   "metadata": {},
   "outputs": [],
   "source": [
    "X_test.head()"
   ]
  },
  {
   "attachments": {},
   "cell_type": "markdown",
   "id": "63fa0db7",
   "metadata": {},
   "source": [
    "### V.G.2. Overall Feature One-Hot Encoding"
   ]
  },
  {
   "cell_type": "code",
   "execution_count": null,
   "id": "64595227",
   "metadata": {},
   "outputs": [],
   "source": [
    "def manual_binning_ohe_encoding(X):\n",
    "    X_encoded = X.copy()\n",
    "    original_columns = X.columns.tolist()\n",
    "    # Categorical Features\n",
    "    X_encoded[\"feature_0:bin_0\"] = X.loc[:, \"encodedfeature_0:bin_0\"]\n",
    "    X_encoded[\"feature_0:bin_1\"] = X.loc[:, \"feature_0:bin_1\"]\n",
    "    # Numerical Features\n",
    "    X_encoded[\"feature_1:36\"] = np.where((X[\"feature_1\"] == 36), 1, 0) # Change this according to your data\n",
    "    X_encoded[\"feature_1:60\"] = np.where((X[\"feature_1\"] == 60), 1, 0) # Change this according to your data\n",
    "    # Continuous Features\n",
    "    X_encoded[\"feature_2:<7.071\"] = np.where((X[\"feature_2\"] <= 7.071), 1, 0) # Change this according to your data\n",
    "    X_encoded[\"feature_2:7.071-10.374\"] = np.where((X[\"feature_2\"] > 7.071) & (X[\"feature_2\"] <= 10.374), 1, 0) # Change this according to your data\n",
    "    X_encoded.drop(columns = original_columns, inplace = True)\n",
    "    return X_encoded"
   ]
  },
  {
   "cell_type": "code",
   "execution_count": null,
   "id": "755f9db1",
   "metadata": {},
   "outputs": [],
   "source": [
    "X_train_ohe = manual_binning_ohe_encoding(X_train)\n",
    "X_test_ohe = manual_binning_ohe_encoding(X_test)\n",
    "X_train_ohe.shape, X_test_ohe.shape"
   ]
  },
  {
   "cell_type": "code",
   "execution_count": null,
   "id": "2cd49bed",
   "metadata": {},
   "outputs": [],
   "source": [
    "X_train_ohe.head()"
   ]
  },
  {
   "cell_type": "code",
   "execution_count": null,
   "id": "6ed87c25",
   "metadata": {},
   "outputs": [],
   "source": [
    "X_test_ohe.head()"
   ]
  },
  {
   "attachments": {},
   "cell_type": "markdown",
   "id": "db69461a",
   "metadata": {},
   "source": [
    "## V.H. Export Data"
   ]
  },
  {
   "cell_type": "code",
   "execution_count": null,
   "id": "c0804fda",
   "metadata": {},
   "outputs": [],
   "source": [
    "X_train_woe.to_pickle('../../data/processed/X_train_woe.pkl')\n",
    "X_test_woe.to_pickle('../../data/processed/X_test_woe.pkl')\n",
    "\n",
    "X_train_ohe.to_pickle('../../data/processed/X_train_ohe.pkl')\n",
    "X_test_ohe.to_pickle('../../data/processed/X_test_ohe.pkl')"
   ]
  }
 ],
 "metadata": {
  "kernelspec": {
   "display_name": "Python 3",
   "language": "python",
   "name": "python3"
  },
  "language_info": {
   "codemirror_mode": {
    "name": "ipython",
    "version": 3
   },
   "file_extension": ".py",
   "mimetype": "text/x-python",
   "name": "python",
   "nbconvert_exporter": "python",
   "pygments_lexer": "ipython3",
   "version": "3.8.8"
  }
 },
 "nbformat": 4,
 "nbformat_minor": 5
}
