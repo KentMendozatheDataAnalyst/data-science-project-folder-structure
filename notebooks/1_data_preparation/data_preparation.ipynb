{
 "cells": [
  {
   "cell_type": "markdown",
   "id": "20203c0f",
   "metadata": {},
   "source": [
    "# I. Project Team Members"
   ]
  },
  {
   "cell_type": "markdown",
   "id": "0aa3d7f4",
   "metadata": {},
   "source": [
    "| Prepared by | Email | Prepared for |\n",
    "| :-: | :-: | :-: |\n",
    "| **Hardefa Rogonondo** | hardefa@aiforesee.com | **AR Score Comparative Study: Application vs Final Grades** |"
   ]
  },
  {
   "cell_type": "markdown",
   "id": "b05cd469",
   "metadata": {},
   "source": [
    "# II. Notebook Target Definition"
   ]
  },
  {
   "cell_type": "markdown",
   "id": "47bae1d2",
   "metadata": {},
   "source": [
    "This notebook details the initial data preparation phase for AR Score Comparative Study: Application vs Final Grades Project. It outlines the procedures used to prepare our single, comprehensive loan dataset. Extracted from a CSV file, this dataset contains both the model-generated application scores and the final scores which are adjusted by the risk team. In this notebook, we perform essential data cleaning and formatting tasks, as well as conduct rigorous quality checks, to ensure the data's reliability for the subsequent comparative analysis. The resulting output provides a clean, structured dataset, setting a robust foundation for an accurate and insightful evaluation of the AR Score model's performance versus the risk-adjusted scores."
   ]
  },
  {
   "cell_type": "markdown",
   "id": "3213f42d",
   "metadata": {},
   "source": [
    "# III. Notebook Setup"
   ]
  },
  {
   "cell_type": "markdown",
   "id": "bb5c3810",
   "metadata": {},
   "source": [
    "## III.A. Import Libraries"
   ]
  },
  {
   "cell_type": "code",
   "execution_count": null,
   "id": "ac84c896",
   "metadata": {},
   "outputs": [],
   "source": [
    "import numpy as np\n",
    "import pandas as pd\n",
    "import pickle\n",
    "\n",
    "pd.set_option('display.max_columns', None)\n",
    "pd.set_option('display.max_rows', None)"
   ]
  },
  {
   "cell_type": "markdown",
   "id": "7291e85b",
   "metadata": {},
   "source": [
    "## III.B. Import Data"
   ]
  },
  {
   "cell_type": "code",
   "execution_count": null,
   "id": "2f425995",
   "metadata": {},
   "outputs": [],
   "source": [
    "df = pd.read_csv('../../data/raw/ARScore_20230510_all.csv')\n",
    "df.head()"
   ]
  },
  {
   "cell_type": "markdown",
   "id": "f59e32c9",
   "metadata": {},
   "source": [
    "# IV. Data Preparation"
   ]
  },
  {
   "cell_type": "markdown",
   "id": "db0a5756",
   "metadata": {},
   "source": [
    "## IV.A. Data Shape Inspection"
   ]
  },
  {
   "cell_type": "code",
   "execution_count": null,
   "id": "aad7798b",
   "metadata": {},
   "outputs": [],
   "source": [
    "df.shape"
   ]
  },
  {
   "cell_type": "markdown",
   "id": "3389b1bf",
   "metadata": {},
   "source": [
    "## IV.B. Data Information Inspection"
   ]
  },
  {
   "cell_type": "code",
   "execution_count": null,
   "id": "c6d7319a",
   "metadata": {},
   "outputs": [],
   "source": [
    "df.info()"
   ]
  },
  {
   "cell_type": "markdown",
   "id": "e9ce06ea",
   "metadata": {},
   "source": [
    "## IV.C. Data Definition"
   ]
  },
  {
   "cell_type": "markdown",
   "id": "50d58989",
   "metadata": {},
   "source": [
    "| Variables | Columns Definition |\n",
    "| :-: | :-: |\n",
    "| bld_id | ID |\n",
    "| bld_loan_number | Loan Number |\n",
    "| bld_loan_status | Loan Status |\n",
    "| bld_bpd_id | Joined ID |\n",
    "| payor_name | Payor Name |\n",
    "| borrower_full_name | Borrower Full Name |\n",
    "| bpd_company_name | Company Name |\n",
    "| average_cash_balance_superdataset | Average Cash Balance from Superdataset |\n",
    "| average_cash_balance_risk | Average Cash Balance from Risk Team |\n",
    "| average_cash_balance_arscore | Average Cash Balance from AR Score Record |\n",
    "| average_cash_balance_risk_static | Average Cash Balance from Risk Team (Static) |\n",
    "| bld_loan_amount | Loan Amount |\n",
    "| ratio_average_cash_balance_superdataset | Ratio Average Cash Balance from Superdataset |\n",
    "| ratio_average_cash_balance_risk | Ratio Average Cash Balance from Risk Team |\n",
    "| ratio_average_cash_balance_arscore | Ratio Average Cash Balance from AR Score Record |\n",
    "| ratio_average_cash_balance_product | Ratio Average Cash Balance from Product Team |\n",
    "| ratio_average_cash_balance_risk_static | Ratio Average Cash Balance from Risk Team (Static) |\n",
    "| a_list_borrower | A List Borrower Status |\n",
    "| company_employee_number | Company Employee Number |\n",
    "| total_all_treatment | Loan Total Treatment Amount |\n",
    "| os_1t30 | Borrower Registered Status in Other Financial Institution Status |\n",
    "| os_30up | Borrower Registered Status in Other Financial Institution Status |\n",
    "| paysec_strength_v2 | Payment Security Strength Version 2 |\n",
    "| product_name | Product Name |\n",
    "| product_group | Product Group |\n",
    "| customer_group | Customer Group |\n",
    "| obligor | Obligor Name |\n",
    "| borrower_industry_category | Borrower Industry Category |\n",
    "| borrower_industry_cat | Borrower Industry Category |\n",
    "| cg | Customer Group Status |\n",
    "| bld_loan_reg_date | Loan Registration Date |\n",
    "| bld_full_paid_date | Loan Full Paid Date |\n",
    "| bld_loan_disbursement_date | Loan Disbursement Date |\n",
    "| bld_loan_due_date | Loan Due Date |\n",
    "| csr_final_grade | Final Grade |\n",
    "| csr_final_score | Final Score |\n",
    "| csr_application_grade | Application Grade |\n",
    "| csr_application_score | Application Score |\n",
    "| csr_suggestion_grade | Suggestion Grade |\n",
    "| csr_behavioral_grade | Behavioral Grade |\n",
    "| csr_behavioral_score | Behavioral Score |\n",
    "| dpd | Day Past Due |"
   ]
  },
  {
   "cell_type": "markdown",
   "id": "3a23e914",
   "metadata": {},
   "source": [
    "## IV.E. Data Validation"
   ]
  },
  {
   "cell_type": "markdown",
   "id": "7157f471",
   "metadata": {},
   "source": [
    "| Variables | Data Types |\n",
    "| :-: | :-: |\n",
    "| bld_id | String |\n",
    "| bld_bpd_id | String |\n",
    "| bld_loan_reg_date | Datetime |\n",
    "| bld_full_paid_date | Datetime |\n",
    "| bld_loan_disbursement_date | Datetime |\n",
    "| bld_loan_due_date | Datetime |"
   ]
  },
  {
   "cell_type": "code",
   "execution_count": null,
   "id": "48c76c4e",
   "metadata": {},
   "outputs": [],
   "source": [
    "# Convert to datetime\n",
    "df[[\"bld_loan_reg_date\", \"bld_full_paid_date\", \"bld_loan_disbursement_date\",\n",
    "    \"bld_loan_due_date\"]] = df[[\"bld_loan_reg_date\", \"bld_full_paid_date\", \"bld_loan_disbursement_date\",\n",
    "                                \"bld_loan_due_date\"]].apply(pd.to_datetime)\n",
    "\n",
    "# Convert to string\n",
    "df[[\"bld_id\", \"bld_bpd_id\"]] = df[[\"bld_id\", \"bld_bpd_id\"]].astype(str)"
   ]
  },
  {
   "cell_type": "code",
   "execution_count": null,
   "id": "80a0825e",
   "metadata": {},
   "outputs": [],
   "source": [
    "df.head()"
   ]
  },
  {
   "cell_type": "code",
   "execution_count": null,
   "id": "60746d99",
   "metadata": {},
   "outputs": [],
   "source": [
    "df.info()"
   ]
  },
  {
   "cell_type": "markdown",
   "id": "292fbbf4",
   "metadata": {},
   "source": [
    "## IV.F. Data Segregation"
   ]
  },
  {
   "cell_type": "code",
   "execution_count": null,
   "id": "8acb4c49",
   "metadata": {},
   "outputs": [],
   "source": [
    "df['grades_equal'] = df['csr_application_grade'].eq(df['csr_final_grade'])\n",
    "\n",
    "count = df['grades_equal'].sum()"
   ]
  },
  {
   "cell_type": "code",
   "execution_count": null,
   "id": "af09e253",
   "metadata": {},
   "outputs": [],
   "source": [
    "count"
   ]
  },
  {
   "cell_type": "code",
   "execution_count": null,
   "id": "7e53a3a1",
   "metadata": {},
   "outputs": [],
   "source": [
    "X = df_aggregated.drop(\"label_target\", axis = 1)\n",
    "y = df_aggregated[\"label_target\"]"
   ]
  },
  {
   "cell_type": "code",
   "execution_count": null,
   "id": "9b6f0c4d",
   "metadata": {},
   "outputs": [],
   "source": [
    "X.shape, y.shape"
   ]
  },
  {
   "cell_type": "code",
   "execution_count": null,
   "id": "a57529a4",
   "metadata": {},
   "outputs": [],
   "source": [
    "X.head()"
   ]
  },
  {
   "cell_type": "code",
   "execution_count": null,
   "id": "0e8c7028",
   "metadata": {},
   "outputs": [],
   "source": [
    "y.head()"
   ]
  },
  {
   "cell_type": "markdown",
   "id": "c5c97bd7",
   "metadata": {},
   "source": [
    "## IV.G. Export Data"
   ]
  },
  {
   "cell_type": "code",
   "execution_count": null,
   "id": "42f61b26",
   "metadata": {},
   "outputs": [],
   "source": [
    "X.to_pickle('../../data/processed/X.pkl')\n",
    "y.to_pickle('../../data/processed/y.pkl')"
   ]
  }
 ],
 "metadata": {
  "kernelspec": {
   "display_name": "Python 3 (ipykernel)",
   "language": "python",
   "name": "python3"
  },
  "language_info": {
   "codemirror_mode": {
    "name": "ipython",
    "version": 3
   },
   "file_extension": ".py",
   "mimetype": "text/x-python",
   "name": "python",
   "nbconvert_exporter": "python",
   "pygments_lexer": "ipython3",
   "version": "3.10.0"
  }
 },
 "nbformat": 4,
 "nbformat_minor": 5
}
